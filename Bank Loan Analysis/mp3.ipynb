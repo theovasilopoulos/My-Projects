{
 "cells": [
  {
   "cell_type": "markdown",
   "id": "c56144cb-0028-4480-86a6-9615d20a18a4",
   "metadata": {},
   "source": [
    "# Loan Analysis Project"
   ]
  },
  {
   "cell_type": "code",
   "execution_count": 3,
   "id": "e072b461-ab94-432b-a401-73350b12565c",
   "metadata": {},
   "outputs": [],
   "source": [
    "import loans\n",
    "import search\n",
    "import time\n",
    "import matplotlib.pyplot as plt\n",
    "import pickle\n",
    "%load_ext autoreload\n",
    "%autoreload 2"
   ]
  },
  {
   "cell_type": "markdown",
   "id": "c8c59b9b-584e-4efe-a20d-25b808fdc223",
   "metadata": {},
   "source": [
    "## Part 3: 'Merchants Bank of Indiana' Analysis"
   ]
  },
  {
   "cell_type": "code",
   "execution_count": 5,
   "id": "b4c23854-f8f2-4409-94d7-dc7d2a54fc4a",
   "metadata": {},
   "outputs": [],
   "source": [
    "# Create Bank object for \"Merchants Bank of Indiana\"\n",
    "merchants_india = loans.Bank(\"Merchants Bank of Indiana\")"
   ]
  },
  {
   "cell_type": "markdown",
   "id": "7675eb63-47d9-414b-ad84-e0329490d6b3",
   "metadata": {},
   "source": [
    "### 1: What is the average interest rate for the bank?"
   ]
  },
  {
   "cell_type": "code",
   "execution_count": 7,
   "id": "bf6ef0c9-9110-41d7-aa89-904bf6566d73",
   "metadata": {},
   "outputs": [
    {
     "data": {
      "text/plain": [
       "3.2181818181818183"
      ]
     },
     "execution_count": 7,
     "metadata": {},
     "output_type": "execute_result"
    }
   ],
   "source": [
    "#Q1\n",
    "loan_list = merchants_india.loan_list\n",
    "total = 0\n",
    "count = 0\n",
    "for loan in loan_list:\n",
    "    rate = loan.interest_rate\n",
    "    if rate != -1:\n",
    "        total += rate\n",
    "        count += 1\n",
    "total/count"
   ]
  },
  {
   "cell_type": "markdown",
   "id": "68ce2208-2df4-40ad-bb4a-82f3ddfb54fd",
   "metadata": {},
   "source": [
    "### 2: How many applicants are there per loan, on average?"
   ]
  },
  {
   "cell_type": "code",
   "execution_count": 9,
   "id": "4198a3fc-7de1-4162-91fe-8c11ee711bbb",
   "metadata": {},
   "outputs": [
    {
     "data": {
      "text/plain": [
       "1.6724137931034482"
      ]
     },
     "execution_count": 9,
     "metadata": {},
     "output_type": "execute_result"
    }
   ],
   "source": [
    "#Q2\n",
    "applicants = 0\n",
    "loan_count = 0\n",
    "for loan in loan_list:\n",
    "    applicants += len(loan.applicants)\n",
    "    loan_count += 1\n",
    "applicants/loan_count"
   ]
  },
  {
   "cell_type": "markdown",
   "id": "1a366fd3-f201-4b21-83ba-19e47db4a149",
   "metadata": {},
   "source": [
    "### 3: What is the distribution of ages?"
   ]
  },
  {
   "cell_type": "code",
   "execution_count": 11,
   "id": "e1f92c09-b886-49a6-b478-94fb32a5559e",
   "metadata": {},
   "outputs": [
    {
     "data": {
      "text/plain": [
       "{'65-74': 6, '<25': 2, '35-44': 43, '25-34': 28, '45-54': 16, '55-64': 2}"
      ]
     },
     "execution_count": 11,
     "metadata": {},
     "output_type": "execute_result"
    }
   ],
   "source": [
    "#Q3\n",
    "distribution_dict = {}\n",
    "app_list = []\n",
    "for loan in loan_list:\n",
    "    app_list += loan.applicants\n",
    "for app in app_list:\n",
    "    age = str(app.age)\n",
    "    if age in distribution_dict:\n",
    "        distribution_dict[age] += 1\n",
    "    else:\n",
    "        distribution_dict[age] = 1\n",
    "\n",
    "distribution_dict"
   ]
  },
  {
   "cell_type": "markdown",
   "id": "272d4a9f-f3fc-42da-bdeb-65db4bc2ea7e",
   "metadata": {},
   "source": [
    "### Binary Search Tree of Loans"
   ]
  },
  {
   "cell_type": "code",
   "execution_count": 13,
   "id": "b4809493-13ce-406a-bd50-460c126bbc73",
   "metadata": {},
   "outputs": [
    {
     "data": {
      "text/plain": [
       "[<Loan: 3.875% on $135000.0 with 2 applicant(s)>,\n",
       " <Loan: 3.875% on $105000.0 with 2 applicant(s)>]"
      ]
     },
     "execution_count": 13,
     "metadata": {},
     "output_type": "execute_result"
    }
   ],
   "source": [
    "mbi_tree = search.BST()\n",
    "\n",
    "for loan in loan_list:\n",
    "    mbi_tree.add(loan.interest_rate, loan)\n",
    "    \n",
    "mbi_tree.root.values"
   ]
  },
  {
   "cell_type": "markdown",
   "id": "c0e26b85-db20-4cf6-b049-aaa6747baac2",
   "metadata": {},
   "source": [
    "### 4: How many interest rate values are missing?"
   ]
  },
  {
   "cell_type": "code",
   "execution_count": 15,
   "id": "62c9d5b0-7e9d-447d-8747-d89db05e38b5",
   "metadata": {},
   "outputs": [
    {
     "data": {
      "text/plain": [
       "3"
      ]
     },
     "execution_count": 15,
     "metadata": {},
     "output_type": "execute_result"
    }
   ],
   "source": [
    "#Q4\n",
    "len(mbi_tree[-1])"
   ]
  },
  {
   "cell_type": "markdown",
   "id": "b2cedb3e-3f80-4537-bffd-99b8b9e8553b",
   "metadata": {},
   "source": [
    "\n",
    "### 5: How tall is the tree?"
   ]
  },
  {
   "cell_type": "code",
   "execution_count": 17,
   "id": "c67316ca-00de-4d1b-8e9c-e1b9c15c981e",
   "metadata": {},
   "outputs": [
    {
     "data": {
      "text/plain": [
       "8"
      ]
     },
     "execution_count": 17,
     "metadata": {},
     "output_type": "execute_result"
    }
   ],
   "source": [
    "#Q5\n",
    "mbi_tree.height()"
   ]
  },
  {
   "cell_type": "markdown",
   "id": "1d3c1162-7abe-4dd9-8d70-7d5882441e23",
   "metadata": {},
   "source": [
    "## Part 4: 'Landmark Credit Union' Analysis"
   ]
  },
  {
   "cell_type": "code",
   "execution_count": 19,
   "id": "e72f9e09-8e1e-4f34-95a5-1c760a77d28f",
   "metadata": {},
   "outputs": [],
   "source": [
    "landmark = loans.Bank(\"Landmark Credit Union\")\n",
    "\n",
    "landmark_tree = search.BST()\n",
    "\n",
    "for loan in landmark.loan_list:\n",
    "    landmark_tree.add(loan.interest_rate, loan)"
   ]
  },
  {
   "cell_type": "markdown",
   "id": "b01c8c21-0d67-40a5-901a-4992af4002f6",
   "metadata": {},
   "source": [
    "### 6: How long does it take to add the first 15,000 loans to the tree?"
   ]
  },
  {
   "cell_type": "code",
   "execution_count": 21,
   "id": "48e9d76f-41ff-4c38-abd5-c100a459dbd9",
   "metadata": {},
   "outputs": [
    {
     "data": {
      "image/png": "[encoded data removed]",
      "text/plain": [
       "<Figure size 640x480 with 1 Axes>"
      ]
     },
     "metadata": {},
     "output_type": "display_data"
    }
   ],
   "source": [
    "#Q6\n",
    "\n",
    "landmark_time_tree = search.BST()\n",
    "c = 0\n",
    "adds = []\n",
    "t_elapsed = []\n",
    "t0 = time.time()\n",
    "\n",
    "for loan in landmark.loan_list:\n",
    "    landmark_time_tree.add(loan.interest_rate, loan)\n",
    "    tx = time.time()\n",
    "    c += 1\n",
    "    if c <= 15000:\n",
    "        adds.append(c)\n",
    "        t_elapsed.append((tx-t0)*1000)\n",
    "    \n",
    "fig, ax = plt.subplots()\n",
    "\n",
    "ax.plot(adds, t_elapsed, label='BST Adds')\n",
    "\n",
    "ax.set_ylabel(\"Time Elapsed (ms)\")\n",
    "ax.set_xlabel(\"BST Adds\")\n",
    "ax.set_title(\"Time Elapsed for First 15,000 Entries into BST\")\n",
    "\n",
    "with open(\"Q6.pkl\", \"wb\") as f:\n",
    "    pickle.dump(fig, f)\n",
    "\n",
    "plt.show()\n",
    "plt.close(fig)"
   ]
  },
  {
   "cell_type": "markdown",
   "id": "1cab210a-9976-40ef-894d-42ab688bfe1c",
   "metadata": {},
   "source": [
    "### 7: How fast are tree lookups?"
   ]
  },
  {
   "cell_type": "code",
   "execution_count": 23,
   "id": "9c159d88-046c-48c7-bd9f-69a682178361",
   "metadata": {},
   "outputs": [
    {
     "data": {
      "image/png": "[encoded data removed]",
      "text/plain": [
       "<Figure size 640x480 with 1 Axes>"
      ]
     },
     "metadata": {},
     "output_type": "display_data"
    }
   ],
   "source": [
    "#Q7\n",
    "\n",
    "c=0\n",
    "t1 = time.time()\n",
    "for loan in landmark.loan_list:\n",
    "    if loan.interest_rate == 199:\n",
    "        c += 1\n",
    "t2 = time.time()\n",
    "\n",
    "t3 = time.time()\n",
    "len(landmark_tree[1.99])\n",
    "t4 = time.time()\n",
    "\n",
    "fig, ax = plt.subplots()\n",
    "\n",
    "# PLOT HERE\n",
    "ax.bar(['Loop', 'BST'], [t2-t1, t4-t3])\n",
    "ax.set_ylabel('Milliseconds')\n",
    "ax.set_xlabel('Method')\n",
    "ax.set_title('Lookup Speed Comparison - Loop vs. BST')\n",
    "\n",
    "with open(\"Q7.pkl\", \"wb\") as f:\n",
    "    pickle.dump(fig, f)\n",
    "\n",
    "plt.show()\n",
    "plt.close(fig)"
   ]
  },
  {
   "cell_type": "markdown",
   "id": "9a0c636c-72ef-4044-a01e-2dca71081e37",
   "metadata": {},
   "source": [
    "### Q8: What is the distribution of amount of racial identities across all applicants?"
   ]
  },
  {
   "cell_type": "code",
   "execution_count": 25,
   "id": "3d6a2149-c0c8-43b5-a01f-e4348fd0dbd4",
   "metadata": {},
   "outputs": [
    {
     "data": {
      "image/png": "[encoded data removed]",
      "text/plain": [
       "<Figure size 640x480 with 1 Axes>"
      ]
     },
     "metadata": {},
     "output_type": "display_data"
    }
   ],
   "source": [
    "data = {}\n",
    "for loan in landmark.loan_list:\n",
    "    for app in loan.applicants:\n",
    "        if len(app.race) not in data:\n",
    "            data[len(app.race)]=1\n",
    "        else:\n",
    "            data[len(app.race)]+=1\n",
    "    \n",
    "    \n",
    "fig, ax = plt.subplots()\n",
    "\n",
    "ax.bar(data.keys(), data.values(), label='Number of racial identities')\n",
    "ax.set_ylabel('Count')\n",
    "ax.set_xlabel('Number of racial identities')\n",
    "ax.set_title('Distribution of Amount of Racial Identities')\n",
    "\n",
    "with open(\"Q8.pkl\", \"wb\") as f:\n",
    "    pickle.dump(fig, f)\n",
    "\n",
    "plt.show()\n",
    "plt.close(fig)"
   ]
  },
  {
   "cell_type": "code",
   "execution_count": 26,
   "id": "50f4c740-fa79-4106-977c-3101dff521fd",
   "metadata": {},
   "outputs": [
    {
     "data": {
      "text/plain": [
       "{1: 24647, 0: 2570, 3: 126, 2: 618, 4: 12}"
      ]
     },
     "execution_count": 26,
     "metadata": {},
     "output_type": "execute_result"
    }
   ],
   "source": [
    "data"
   ]
  },
  {
   "cell_type": "markdown",
   "id": "0c0372d4-e465-4c79-beaa-5a00ce56a36d",
   "metadata": {},
   "source": [
    "### 9: How many leaf nodes are in the tree?"
   ]
  },
  {
   "cell_type": "code",
   "execution_count": 28,
   "id": "93de44e1-23b3-447f-8c88-2f6059ff8b43",
   "metadata": {},
   "outputs": [
    {
     "data": {
      "text/plain": [
       "63"
      ]
     },
     "execution_count": 28,
     "metadata": {},
     "output_type": "execute_result"
    }
   ],
   "source": [
    "#Q9\n",
    "\n",
    "def count_leaves_helper(node):\n",
    "    if node == None:\n",
    "        return 0\n",
    "    elif node.left==None and node.right==None:\n",
    "        return 1\n",
    "    return count_leaves_helper(node.left) + count_leaves_helper(node.right)\n",
    "\n",
    "count_leaves_helper(landmark_tree.root)"
   ]
  },
  {
   "cell_type": "markdown",
   "id": "c1118996-9a37-4889-9d53-1d043b9983cb",
   "metadata": {},
   "source": [
    "### Q10: What is the third largest interest rate in the Bank BST?"
   ]
  },
  {
   "cell_type": "code",
   "execution_count": 30,
   "id": "437de513-9ffc-4345-80d7-a776178b5d3f",
   "metadata": {},
   "outputs": [
    {
     "data": {
      "text/plain": [
       "9.85"
      ]
     },
     "execution_count": 30,
     "metadata": {},
     "output_type": "execute_result"
    }
   ],
   "source": [
    "def get_top_n_keys(node, N, result):\n",
    "    if node is None or len(result) >= N:\n",
    "        return\n",
    "\n",
    "    get_top_n_keys(node.right, N, result)\n",
    "\n",
    "    if len(result) < N:\n",
    "        result.append(node.key)\n",
    "\n",
    "    get_top_n_keys(node.left, N, result)\n",
    "\n",
    "result = []\n",
    "get_top_n_keys(landmark_tree.root, 3, result)\n",
    "\n",
    "sorted(result)[0]"
   ]
  }
 ],
 "metadata": {
  "kernelspec": {
   "display_name": "Python [conda env:anaconda3]",
   "language": "python",
   "name": "conda-env-anaconda3-py"
  },
  "language_info": {
   "codemirror_mode": {
    "name": "ipython",
    "version": 3
   },
   "file_extension": ".py",
   "mimetype": "text/x-python",
   "name": "python",
   "nbconvert_exporter": "python",
   "pygments_lexer": "ipython3",
   "version": "3.10.12"
  }
 },
 "nbformat": 4,
 "nbformat_minor": 5
}
